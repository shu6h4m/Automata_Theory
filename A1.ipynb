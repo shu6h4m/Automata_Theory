{
  "nbformat": 4,
  "nbformat_minor": 0,
  "metadata": {
    "colab": {
      "name": "A1.ipynb",
      "provenance": [],
      "collapsed_sections": []
    },
    "kernelspec": {
      "name": "python3",
      "display_name": "Python 3"
    },
    "language_info": {
      "name": "python"
    }
  },
  "cells": [
    {
      "cell_type": "markdown",
      "metadata": {
        "id": "nGS2_PYtlAaY"
      },
      "source": [
        "### Assignment 1: Choose language(s) & alphabet of your choice and perform lcat and lstar on it."
      ]
    },
    {
      "cell_type": "code",
      "metadata": {
        "id": "BDtlCRZIjhVO"
      },
      "source": [
        "Alphabets = {0,1}"
      ],
      "execution_count": 1,
      "outputs": []
    },
    {
      "cell_type": "markdown",
      "metadata": {
        "id": "RfXv9WVzk3HI"
      },
      "source": [
        "Languages from given alphabet:"
      ]
    },
    {
      "cell_type": "code",
      "metadata": {
        "id": "QteQxqlrlf5x"
      },
      "source": [
        "lang1 = {'+','-'}\n",
        "lang2 = {'*','#'}"
      ],
      "execution_count": 9,
      "outputs": []
    },
    {
      "cell_type": "markdown",
      "metadata": {
        "id": "8mCBDumtviUZ"
      },
      "source": [
        "Defining Concatenation Function"
      ]
    },
    {
      "cell_type": "code",
      "metadata": {
        "id": "cc8i2J2Sranh"
      },
      "source": [
        "def lcat(lang1,lang2):\n",
        "    \"\"\"\n",
        "       In : L1 (language : a set),\n",
        "       L2 (language : a set).\n",
        "       Out: L1 concat L2 (language : a set).\n",
        "       Example:\n",
        "       L1 = {'ab', 'bc'} \n",
        "       L2 = {'11', 'ab', '22'} \n",
        "       lcat(L1,L2) -> {'abab', 'bc22', 'ab11', 'ab22', 'bcab', 'bc11'}\n",
        "    \"\"\"\n",
        "    return {x+y for x in lang1 for y in lang2}"
      ],
      "execution_count": 11,
      "outputs": []
    },
    {
      "cell_type": "markdown",
      "metadata": {
        "id": "IR5qW9HNvp2H"
      },
      "source": [
        "Funtion for Exponent"
      ]
    },
    {
      "cell_type": "code",
      "metadata": {
        "id": "vBLO1MJ8r2R4"
      },
      "source": [
        "def lexp(L,n):\n",
        "    \"\"\"In : L (language : a set),\n",
        "            n (exponent : a nat).\n",
        "       Out: L^n (language : a set).\n",
        "       Example:\n",
        "       L = {'ab', 'bc'}\n",
        "       n = 2\n",
        "       lexp(A,2) -> {'abab', 'bcab', 'bcbc', 'abbc'}\n",
        "    \"\"\"\n",
        "    return {\"\"} if n == 0 else lcat(L, lexp(L, n-1))"
      ],
      "execution_count": 12,
      "outputs": []
    },
    {
      "cell_type": "markdown",
      "metadata": {
        "id": "awD9uWqTv5Ty"
      },
      "source": [
        "Union of languages"
      ]
    },
    {
      "cell_type": "code",
      "metadata": {
        "id": "rbuLJwTLstUH"
      },
      "source": [
        "def lunion(lang1,lang2):\n",
        "    \"\"\"In : L1 (language : a set),\n",
        "            L2 (language : a set).\n",
        "       Out: L1 union L2 (language : a set).\n",
        "    \"\"\"\n",
        "    return lang1 | lang2"
      ],
      "execution_count": 13,
      "outputs": []
    },
    {
      "cell_type": "markdown",
      "metadata": {
        "id": "Y8en1QtOv9fT"
      },
      "source": [
        "Fuction for Kleene Star"
      ]
    },
    {
      "cell_type": "code",
      "metadata": {
        "id": "FmgdABY3siCi"
      },
      "source": [
        "def lstar(L,n):\n",
        "    \"\"\"In : L (language : a set),\n",
        "            n (bound for lstar : a nat). \n",
        "       Out: L*_n (language : a set)\n",
        "    Example:\n",
        "    L = {'ab','bc'}\n",
        "    n = 2\n",
        "    lstar(L,2) -> {'abab', 'bcbc', 'ab', 'abbc', '', 'bc', 'bcab'}\n",
        "    \"\"\"\n",
        "    return {\"\"} if n == 0 else lunion(lexp(L,n), lstar(L,n-1))"
      ],
      "execution_count": 14,
      "outputs": []
    },
    {
      "cell_type": "code",
      "metadata": {
        "colab": {
          "base_uri": "https://localhost:8080/"
        },
        "id": "EvgVOr5AtZpt",
        "outputId": "3cedfb60-d845-40e7-89c9-7fad949eefbf"
      },
      "source": [
        "lcat(lang1, lang2)"
      ],
      "execution_count": 15,
      "outputs": [
        {
          "output_type": "execute_result",
          "data": {
            "text/plain": [
              "{'+#', '+*', '-#', '-*'}"
            ]
          },
          "metadata": {},
          "execution_count": 15
        }
      ]
    },
    {
      "cell_type": "code",
      "metadata": {
        "colab": {
          "base_uri": "https://localhost:8080/"
        },
        "id": "V-nrmrfXuc7y",
        "outputId": "807c5f6b-763a-4a22-faf7-94e7dd1e2d40"
      },
      "source": [
        "lstar(lang1,2)"
      ],
      "execution_count": 17,
      "outputs": [
        {
          "output_type": "execute_result",
          "data": {
            "text/plain": [
              "{'', '+', '++', '+-', '-', '-+', '--'}"
            ]
          },
          "metadata": {},
          "execution_count": 17
        }
      ]
    },
    {
      "cell_type": "code",
      "metadata": {
        "colab": {
          "base_uri": "https://localhost:8080/"
        },
        "id": "N7p_-IFwu5iy",
        "outputId": "8ce496bc-61c9-46af-9ed6-13c241004676"
      },
      "source": [
        "lstar(lang2, 2)"
      ],
      "execution_count": 18,
      "outputs": [
        {
          "output_type": "execute_result",
          "data": {
            "text/plain": [
              "{'', '#', '##', '#*', '*', '*#', '**'}"
            ]
          },
          "metadata": {},
          "execution_count": 18
        }
      ]
    },
    {
      "cell_type": "code",
      "metadata": {
        "colab": {
          "base_uri": "https://localhost:8080/"
        },
        "id": "uhJKoRQju_Tt",
        "outputId": "7a2a5c9f-d8ba-41a5-8902-e0c228016c70"
      },
      "source": [
        "lstar(lcat(lang1,lang2),2)"
      ],
      "execution_count": 20,
      "outputs": [
        {
          "output_type": "execute_result",
          "data": {
            "text/plain": [
              "{'',\n",
              " '+#',\n",
              " '+#+#',\n",
              " '+#+*',\n",
              " '+#-#',\n",
              " '+#-*',\n",
              " '+*',\n",
              " '+*+#',\n",
              " '+*+*',\n",
              " '+*-#',\n",
              " '+*-*',\n",
              " '-#',\n",
              " '-#+#',\n",
              " '-#+*',\n",
              " '-#-#',\n",
              " '-#-*',\n",
              " '-*',\n",
              " '-*+#',\n",
              " '-*+*',\n",
              " '-*-#',\n",
              " '-*-*'}"
            ]
          },
          "metadata": {},
          "execution_count": 20
        }
      ]
    },
    {
      "cell_type": "markdown",
      "metadata": {
        "id": "U98aDzp1wFE0"
      },
      "source": [
        "Done, Great Success !"
      ]
    }
  ]
}